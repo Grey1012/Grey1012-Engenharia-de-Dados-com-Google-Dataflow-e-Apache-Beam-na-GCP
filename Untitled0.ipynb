{
  "nbformat": 4,
  "nbformat_minor": 0,
  "metadata": {
    "colab": {
      "provenance": [],
      "collapsed_sections": [],
      "authorship_tag": "ABX9TyMeDHDDtB37crYvuDva+DH8",
      "include_colab_link": true
    },
    "kernelspec": {
      "name": "python3",
      "display_name": "Python 3"
    },
    "language_info": {
      "name": "python"
    }
  },
  "cells": [
    {
      "cell_type": "markdown",
      "metadata": {
        "id": "view-in-github",
        "colab_type": "text"
      },
      "source": [
        "<a href=\"https://colab.research.google.com/github/Grey1012/Grey1012-Engenharia-de-Dados-com-Google-Dataflow-e-Apache-Beam-na-GCP/blob/main/Untitled0.ipynb\" target=\"_parent\"><img src=\"https://colab.research.google.com/assets/colab-badge.svg\" alt=\"Open In Colab\"/></a>"
      ]
    },
    {
      "cell_type": "markdown",
      "source": [
        "UDEMY - Engenharia de Dados com Google Dataflow e apache Beam na GCP\n",
        "\n",
        "Estudante : Gracy Silva\n",
        "\n",
        "Empresa Multiedro"
      ],
      "metadata": {
        "id": "Y0x5DH70focO"
      }
    },
    {
      "cell_type": "code",
      "execution_count": null,
      "metadata": {
        "id": "JTOUe8FrXM3X"
      },
      "outputs": [],
      "source": [
        "!pip install apache-beam[interactive]\n",
        "!pip install >=3.1\n",
        "!pip install sunpy\n",
        "!pip install scikit-surprise\n",
        "!pip install \"scipy>=1.0\""
      ]
    },
    {
      "cell_type": "code",
      "source": [
        "from apache_beam.pvalue import PCollection\n",
        "import apache_beam as beam\n",
        "import astropy\n",
        "import surprise\n",
        "from apache_beam.io.textio import WriteToText"
      ],
      "metadata": {
        "id": "FT-L7-ti-vsq"
      },
      "execution_count": 40,
      "outputs": []
    },
    {
      "cell_type": "code",
      "source": [
        "# Importar dados do arquivo voos_sample.csv\n",
        "# Criei um separador (\",\") \n",
        "# E por fim gravei um arquivo voos.txt \n",
        "\n",
        "p1 = beam.Pipeline()\n",
        "\n",
        "voos = (\n",
        "    p1\n",
        "    |\"Importas Dados\" >> beam.io.ReadFromText(\"voos_sample.csv\", skip_header_lines = 1)\n",
        "    |\"Separar por virgula\" >> beam.Map(lambda record: record.split(','))\n",
        "    |\"Mostrar Resultados\" >> beam.Map(print)\n",
        "    |\"Gravar resultados\" >> beam.io.WriteToText(\"voos.txt\")\n",
        ")\n",
        "\n",
        "p1.run()"
      ],
      "metadata": {
        "colab": {
          "base_uri": "https://localhost:8080/"
        },
        "id": "zV5y5KvmdUZI",
        "outputId": "3eb7a957-a0f1-47a5-fac2-6f0112340b2a"
      },
      "execution_count": null,
      "outputs": [
        {
          "output_type": "stream",
          "name": "stdout",
          "text": [
            "['2019-04-27', '19805', '2', 'LAX', 'JFK', '944', '14', '1736', '-29', '269', '2475', '2']\n",
            "['2019-04-27', '19805', '3', 'JFK', 'LAX', '1224', '-6', '1614', '39', '371', '2475', '3']\n",
            "['2019-04-27', '19805', '4', 'LAX', 'JFK', '1240', '25', '2028', '-27', '264', '2475', '4']\n",
            "['2019-04-27', '19805', '5', 'DFW', 'HNL', '1300', '-5', '1650', '15', '510', '3784', '5']\n",
            "['2019-04-27', '19805', '6', 'OGG', 'DFW', '1901', '126', '640', '95', '385', '3711', '6']\n",
            "['2019-04-27', '19805', '7', 'DFW', 'OGG', '1410', '125', '1743', '138', '497', '3711', '7']\n",
            "['2019-04-27', '19805', '8', 'HNL', 'DFW', '1659', '4', '458', '-22', '398', '3784', '8']\n",
            "['2019-04-27', '19805', '9', 'JFK', 'LAX', '648', '-7', '1029', '19', '365', '2475', '9']\n",
            "['2019-04-27', '19805', '10', 'LAX', 'JFK', '2156', '21', '556', '1', '265', '2475', '10']\n",
            "['2019-04-27', '19805', '12', 'LAX', 'JFK', '1113', '-2', '1910', '-40', '267', '2475', '11']\n",
            "['2019-04-27', '19805', '14', 'OGG', 'LAX', '2235', '5', '618', '-17', '270', '2486', '12']\n",
            "['2019-04-27', '19805', '15', 'BOS', 'ORD', '611', '-9', '756', '-19', '129', '867', '13']\n",
            "['2019-04-27', '19805', '16', 'SFO', 'JFK', '1312', '17', '2107', '-33', '268', '2586', '14']\n",
            "['2019-04-27', '19805', '17', 'ATL', 'MIA', '630', '-5', '813', '-17', '83', '594', '15']\n",
            "['2019-04-27', '19805', '18', 'SFO', 'JFK', '22', '112', '833', '88', '288', '2586', '16']\n",
            "['2019-04-27', '19805', '19', 'JFK', 'LAX', '1024', '-6', '1353', '18', '359', '2475', '17']\n",
            "['2019-04-27', '19805', '20', 'SFO', 'JFK', '1715', '135', '130', '120', '277', '2586', '18']\n",
            "['2019-04-27', '19805', '21', 'JFK', 'LAX', '1906', '-4', '2246', '16', '359', '2475', '19']\n",
            "['2019-04-27', '19805', '22', 'LAX', 'JFK', '1458', '-2', '2336', '11', '272', '2475', '20']\n"
          ]
        },
        {
          "output_type": "execute_result",
          "data": {
            "text/plain": [
              "<apache_beam.runners.portability.fn_api_runner.fn_runner.RunnerResult at 0x7fe946d72690>"
            ]
          },
          "metadata": {},
          "execution_count": 8
        }
      ]
    },
    {
      "cell_type": "code",
      "source": [
        "# Função: Platmap - Criando o arquivo resultado.txt tratado\n",
        "\n",
        "p1 = beam.Pipeline() \n",
        "\n",
        "Collection = (\n",
        "    p1\n",
        "    |beam.io.ReadFromText (\"poema.txt\")\n",
        "    |beam.FlatMap(lambda record: record.split(' '))\n",
        "    |beam.io.WriteToText('resultado.txt')\n",
        ")\n",
        "\n",
        "p1.run()"
      ],
      "metadata": {
        "colab": {
          "base_uri": "https://localhost:8080/"
        },
        "id": "N5g3RR2vnqyh",
        "outputId": "d6c03210-e490-4987-aae4-b6e0bc027350"
      },
      "execution_count": 37,
      "outputs": [
        {
          "output_type": "execute_result",
          "data": {
            "text/plain": [
              "<apache_beam.runners.portability.fn_api_runner.fn_runner.RunnerResult at 0x7fe944a3b710>"
            ]
          },
          "metadata": {},
          "execution_count": 37
        }
      ]
    },
    {
      "cell_type": "code",
      "source": [
        "# Função: Listas e Tuplas traz o resultado tipo lista e tuplas\n",
        "\n",
        "p1 = beam.Pipeline()\n",
        "\n",
        "p1 | \"Tupla\" >> beam.Create([ (\"Cassio\", 22) , (\"Vics\", 21)]) |\"print tupla\" >> beam.Map(print) #Tupla\n",
        "p1 | \"Lista\" >> beam.Create ([ 1,2,3]) | \"print lista\" >> beam.Map(print) #\"Lista\")\n",
        "\n",
        "p1.run()"
      ],
      "metadata": {
        "colab": {
          "base_uri": "https://localhost:8080/"
        },
        "id": "6RJamQzigHw1",
        "outputId": "f3699122-b84f-458a-a470-3974525036a8"
      },
      "execution_count": null,
      "outputs": [
        {
          "output_type": "stream",
          "name": "stdout",
          "text": [
            "1\n",
            "2\n",
            "3\n",
            "('Cassio', 22)\n",
            "('Vics', 21)\n"
          ]
        },
        {
          "output_type": "execute_result",
          "data": {
            "text/plain": [
              "<apache_beam.runners.portability.fn_api_runner.fn_runner.RunnerResult at 0x7fe946ccae50>"
            ]
          },
          "metadata": {},
          "execution_count": 10
        }
      ]
    },
    {
      "cell_type": "code",
      "source": [
        "# Função: Lambda (filtrando)\n",
        "\n",
        "p1 = beam.Pipeline()\n",
        "\n",
        "voos = (\n",
        "p1\n",
        "  |\"Importas Dados\" >> beam.io.ReadFromText(\"voos_sample.csv\", skip_header_lines = 1)\n",
        "  |\"Separar por virgula\" >> beam.Map(lambda record: record.split(','))\n",
        "  |\"pegar voos de Los Angeles\" >> beam.Filter(lambda record: record[3] == \"LAX\")\n",
        "  |\"Mostrar Resultados\" >> beam.Map(print)\n",
        ")\n",
        "\n",
        "p1.run()"
      ],
      "metadata": {
        "colab": {
          "base_uri": "https://localhost:8080/"
        },
        "id": "1aeEsgwVnoT5",
        "outputId": "1c5cecae-7a8a-4f14-8ad7-efae9b0ef2ec"
      },
      "execution_count": null,
      "outputs": [
        {
          "output_type": "stream",
          "name": "stdout",
          "text": [
            "['2019-04-27', '19805', '2', 'LAX', 'JFK', '944', '14', '1736', '-29', '269', '2475', '2']\n",
            "['2019-04-27', '19805', '4', 'LAX', 'JFK', '1240', '25', '2028', '-27', '264', '2475', '4']\n",
            "['2019-04-27', '19805', '10', 'LAX', 'JFK', '2156', '21', '556', '1', '265', '2475', '10']\n",
            "['2019-04-27', '19805', '12', 'LAX', 'JFK', '1113', '-2', '1910', '-40', '267', '2475', '11']\n",
            "['2019-04-27', '19805', '22', 'LAX', 'JFK', '1458', '-2', '2336', '11', '272', '2475', '20']\n"
          ]
        },
        {
          "output_type": "execute_result",
          "data": {
            "text/plain": [
              "<apache_beam.runners.portability.fn_api_runner.fn_runner.RunnerResult at 0x7fe9478086d0>"
            ]
          },
          "metadata": {},
          "execution_count": 11
        }
      ]
    },
    {
      "cell_type": "code",
      "source": [
        "# Função: Lista (filtrando)\n",
        "\n",
        "palavras=['quatro', 'um']\n",
        "\n",
        "def encontrarPalavras( i ):\n",
        "  if i in palavras:\n",
        "    return True\n",
        "    \n",
        "    p1 = beam.Pipiline()\n",
        "\n",
        "Collection = (\n",
        "    p1\n",
        "    |beam.io.ReadFromText('poema.txt')\n",
        "    |beam.FlatMap(lambda record: record.split(' '))\n",
        "    |beam.Filter(encontrarPalavras)\n",
        "    |beam.io.WriteToText('resultado.txt')\n",
        ")\n",
        "\n",
        "p1.run()"
      ],
      "metadata": {
        "colab": {
          "base_uri": "https://localhost:8080/"
        },
        "id": "yDoZiCHBqinQ",
        "outputId": "7f71e275-bc16-4566-c86e-dd518f710c5d"
      },
      "execution_count": null,
      "outputs": [
        {
          "output_type": "stream",
          "name": "stdout",
          "text": [
            "['2019-04-27', '19805', '2', 'LAX', 'JFK', '944', '14', '1736', '-29', '269', '2475', '2']\n",
            "['2019-04-27', '19805', '4', 'LAX', 'JFK', '1240', '25', '2028', '-27', '264', '2475', '4']\n",
            "['2019-04-27', '19805', '10', 'LAX', 'JFK', '2156', '21', '556', '1', '265', '2475', '10']\n",
            "['2019-04-27', '19805', '12', 'LAX', 'JFK', '1113', '-2', '1910', '-40', '267', '2475', '11']\n",
            "['2019-04-27', '19805', '22', 'LAX', 'JFK', '1458', '-2', '2336', '11', '272', '2475', '20']\n"
          ]
        },
        {
          "output_type": "execute_result",
          "data": {
            "text/plain": [
              "<apache_beam.runners.portability.fn_api_runner.fn_runner.RunnerResult at 0x7fe946c85cd0>"
            ]
          },
          "metadata": {},
          "execution_count": 12
        }
      ]
    },
    {
      "cell_type": "code",
      "source": [
        "# Função: Flatten = Agrupa funções do mesmo tipo em uma unica PCollection\n",
        "\n",
        "p = beam.Pipeline()\n",
        "\n",
        "negros = (\"Adão\",\"Jesus\",\"Mike\")\n",
        "brancos = (\"Tulio\",\"Mary\",\"Jessica\")\n",
        "indios = (\"Vick\",\"Maria\",\"Tom\")\n",
        "\n",
        "negros_pc = p |\"Criando Pcolletion negros\" >> beam.Create(negros)\n",
        "brancos_pc = p |\"Criando Pcollettion Brancos\" >> beam.Create(brancos)\n",
        "indios_pc = p |\"Criando Pcolletion indios\" >> beam.Create(indios)\n",
        "\n",
        "pessoas = ((negros_pc, brancos_pc, indios_pc)\n",
        "|beam.Flatten()) |beam.Map(print)\n",
        "\n",
        "p.run()"
      ],
      "metadata": {
        "colab": {
          "base_uri": "https://localhost:8080/"
        },
        "id": "nsSx8Wx1sbR1",
        "outputId": "75598a41-cb1a-44bf-a333-0afeed21e94f"
      },
      "execution_count": null,
      "outputs": [
        {
          "output_type": "stream",
          "name": "stdout",
          "text": [
            "Vick\n",
            "Maria\n",
            "Tom\n",
            "Adão\n",
            "Jesus\n",
            "Mike\n",
            "Tulio\n",
            "Mary\n",
            "Jessica\n"
          ]
        },
        {
          "output_type": "execute_result",
          "data": {
            "text/plain": [
              "<apache_beam.runners.portability.fn_api_runner.fn_runner.RunnerResult at 0x7fe946faa9d0>"
            ]
          },
          "metadata": {},
          "execution_count": 13
        }
      ]
    },
    {
      "cell_type": "code",
      "source": [
        "# Função: CombinePerKey\n",
        "# É uma função de combinação ela retorna uma agregação, baseada a uma chave que esta na lista de valores\n",
        "\n",
        "p1 = beam.Pipeline()\n",
        "\n",
        "Tempo_Atrasos = (\n",
        "    p1\n",
        "    |\"Importar Dados\" >> beam.io.ReadFromText(\"voos_sample.csv\")\n",
        "    |\"Separar por virgula\" >> beam.Map(lambda record: record.split(\",\"))\n",
        "    |\"Pegar voos de Los Angeles\" >> beam.Filter(lambda record: int(record[8]) > 0)\n",
        "    |\"Criar par\" >>beam.Map(lambda record: (record[4], int(record[8])))\n",
        "    |\"Somar por key\" >> beam.CombinePerKey(sum)\n",
        "    |\"Mostrar Resultados\" >> beam.Map(print)\n",
        ")\n",
        "\n",
        "p1.run()"
      ],
      "metadata": {
        "colab": {
          "base_uri": "https://localhost:8080/"
        },
        "id": "7DRNJxY-xGlN",
        "outputId": "9b86ffb2-aecf-4600-8cb4-12fd8441b1f4"
      },
      "execution_count": null,
      "outputs": [
        {
          "output_type": "stream",
          "name": "stdout",
          "text": [
            "('LAX', 94)\n",
            "('HNL', 15)\n",
            "('DFW', 95)\n",
            "('OGG', 138)\n",
            "('JFK', 220)\n"
          ]
        },
        {
          "output_type": "execute_result",
          "data": {
            "text/plain": [
              "<apache_beam.runners.portability.fn_api_runner.fn_runner.RunnerResult at 0x7fe946cb68d0>"
            ]
          },
          "metadata": {},
          "execution_count": 14
        }
      ]
    },
    {
      "cell_type": "code",
      "source": [
        "# Função: Combines.Count.Perkey - Estarei contando atrasos de cada aeroporto\n",
        "\n",
        "p1 = beam.Pipeline()\n",
        "\n",
        "Qtde_Atrasos = (\n",
        "    p1\n",
        "    |\"importar Dados\" >> beam.io.ReadFromText(\"voos_sample.csv\", skip_header_lines = 1)\n",
        "    |\"Separar por virgula\" >> beam.Map (lambda record: record.split(\",\"))\n",
        "    |\"pegar voos de Los angeles\" >> beam.Filter(lambda record : int(record[8]) > 0 )\n",
        "    |\"Criar par\" >> beam.Map(lambda record: (record[4], int(record[8])))\n",
        "    |\"Contar por key\" >> beam.combiners.Count.PerKey()\n",
        "    |\"Mostrar Resultado\" >> beam.Map(print)\n",
        "\n",
        ")\n",
        "p1.run()\n"
      ],
      "metadata": {
        "colab": {
          "base_uri": "https://localhost:8080/"
        },
        "id": "IdmtI-fX3Brf",
        "outputId": "7dfde585-ca5d-425b-eafe-09b6140c987d"
      },
      "execution_count": 38,
      "outputs": [
        {
          "output_type": "stream",
          "name": "stdout",
          "text": [
            "('LAX', 4)\n",
            "('HNL', 1)\n",
            "('DFW', 1)\n",
            "('OGG', 1)\n",
            "('JFK', 4)\n"
          ]
        },
        {
          "output_type": "execute_result",
          "data": {
            "text/plain": [
              "<apache_beam.runners.portability.fn_api_runner.fn_runner.RunnerResult at 0x7fe944955390>"
            ]
          },
          "metadata": {},
          "execution_count": 38
        }
      ]
    },
    {
      "cell_type": "code",
      "source": [
        "# FUNÇÃO COGROUPBYKEY\n",
        "# Faz um join através de chaves e um Pcolletions separados e depois faz o group by\n",
        "\n",
        "p1 = beam.Pipeline()\n",
        "\n",
        "tempo_atrasos = (\n",
        "    p1\n",
        "    | \"importa dados atraso\" >> beam.io.ReadFromText(\"voos_sample.csv\", skip_header_lines = 1)\n",
        "    | \"separar por virgula atraso\" >> beam.Map(lambda record: record.split(\",\"))\n",
        "    | \"pegar voos com atraso\" >> beam.Filter(lambda record: int(record[8]) > 0)\n",
        "    | \"Criar por atraso\" >> beam.Map(lambda record: (record[4], int(record[8])))\n",
        "    | \"somar por key\" >> beam.CombinePerKey(sum)\n",
        "   # | \"Mostrar resultados\" >> beam.Map(print)\n",
        ")\n",
        "\n",
        "qtde_atrasos = (\n",
        "    p1\n",
        "    | \"importar dados\" >> beam.io.ReadFromText(\"voos_sample.csv\", skip_header_lines = 1)\n",
        "    | \"separar por virgula\" >> beam.Map(lambda record: record.split(\",\"))\n",
        "    | \"pegar voos com atraso qtd\" >> beam.Filter(lambda record: int(record[8]) > 0)\n",
        "    | \"criar por qtde\" >> beam.Map(lambda record: (record[4], int(record[8])))\n",
        "    | \"contar por key\" >> beam.combiners.Count.PerKey()\n",
        "   # | \"mostrar resultado\" >> beam.Map(print)\n",
        ")\n",
        "\n",
        "# Esta terceira Pipeline irei trazer o tempo e a qtde de atraso dos aeroportos\n",
        "# Depois estou fazendo um CoGroupByKey (ele detecta a chave de tempo e qtde de atrasos através do (record[4]))\n",
        "\n",
        "tabela_atraso = (\n",
        "    {'qtde_atrasos': qtde_atrasos, \"tempo_atrasos\": tempo_atrasos}\n",
        "    |\"Group By\" >> beam.CoGroupByKey()\n",
        "    | beam.Map(print)\n",
        ")\n",
        "\n",
        "p1.run()"
      ],
      "metadata": {
        "id": "DpenP9O16CSe",
        "colab": {
          "base_uri": "https://localhost:8080/"
        },
        "outputId": "5af69e04-723e-4429-c239-7c88a876d9e0"
      },
      "execution_count": 39,
      "outputs": [
        {
          "output_type": "stream",
          "name": "stdout",
          "text": [
            "('LAX', {'qtde_atrasos': [4], 'tempo_atrasos': [92]})\n",
            "('HNL', {'qtde_atrasos': [1], 'tempo_atrasos': [15]})\n",
            "('DFW', {'qtde_atrasos': [1], 'tempo_atrasos': [95]})\n",
            "('OGG', {'qtde_atrasos': [1], 'tempo_atrasos': [138]})\n",
            "('JFK', {'qtde_atrasos': [4], 'tempo_atrasos': [220]})\n"
          ]
        },
        {
          "output_type": "execute_result",
          "data": {
            "text/plain": [
              "<apache_beam.runners.portability.fn_api_runner.fn_runner.RunnerResult at 0x7fe945c5ee10>"
            ]
          },
          "metadata": {},
          "execution_count": 39
        }
      ]
    },
    {
      "cell_type": "code",
      "source": [
        "# Função Pardo : É uma das funções importantes no Apache beam\n",
        "# Ela permite criar funções personalizadas e rodar no Framework\n",
        "# Qualquer codigo que eu colocar ele sera transformado em funções \n",
        "# Que serão executadas em paralelos dentro do framework do apache beam\n",
        "\n",
        "# Criei uma classe com nome filtro \n",
        "# Dentro dela declarei uma função process com dois elementos (self = é tudo que vem dentro dela)\n",
        "# E o record é o que usei dentro das papilines a baixo.\n",
        "\n",
        "p1 = beam.Pipeline()\n",
        "\n",
        "class filtro (beam.DoFn):\n",
        "  def process(self,record):\n",
        "    if int(record[8]) > 0:\n",
        "      return[record]\n",
        "\n",
        "# Alterei a função \n",
        "tempo_atrasos = (\n",
        "    p1\n",
        "    | \"importa dados atraso\" >> beam.io.ReadFromText(\"voos_sample.csv\", skip_header_lines = 1)\n",
        "    | \"separar por virgula atraso\" >> beam.Map(lambda record: record.split(\",\"))\n",
        "    | \"pegar voos com atraso\" >> beam.ParDo(filtro()) '''Linha alterada'''\n",
        "    | \"Criar por atraso\" >> beam.Map(lambda record: (record[4], int(record[8])))\n",
        "    | \"somar por key\" >> beam.CombinePerKey(sum)\n",
        "   # | \"Mostrar resultados\" >> beam.Map(print)\n",
        ")\n",
        "\n",
        "qtde_atrasos = (\n",
        "    p1\n",
        "    | \"importar dados\" >> beam.io.ReadFromText(\"voos_sample.csv\", skip_header_lines = 1)\n",
        "    | \"separar por virgula\" >> beam.Map(lambda record: record.split(\",\"))\n",
        "    | \"pegar voos com atraso qtd\" >> beam.ParDo(filtro()) '''Linha alterada'''\n",
        "    | \"criar por qtde\" >> beam.Map(lambda record: (record[4], int(record[8])))\n",
        "    | \"contar por key\" >> beam.combiners.Count.PerKey()\n",
        "   # | \"mostrar resultado\" >> beam.Map(print)\n",
        ")\n",
        "\n",
        "tabela_atraso = (\n",
        "    {'qtde_atrasos': qtde_atrasos, \"tempo_atrasos\": tempo_atrasos}\n",
        "    |\"Group By\" >> beam.CoGroupByKey()\n",
        "    | beam.Map(print)\n",
        ")\n",
        "\n",
        "p1.run()"
      ],
      "metadata": {
        "id": "P8b-F4yd6qkr",
        "colab": {
          "base_uri": "https://localhost:8080/"
        },
        "outputId": "c7627d12-c952-4fb9-f7fe-4d8966cbffdb"
      },
      "execution_count": 46,
      "outputs": [
        {
          "output_type": "stream",
          "name": "stdout",
          "text": [
            "('LAX', {'qtde_atrasos': [4], 'tempo_atrasos': [92]})\n",
            "('HNL', {'qtde_atrasos': [1], 'tempo_atrasos': [15]})\n",
            "('DFW', {'qtde_atrasos': [1], 'tempo_atrasos': [95]})\n",
            "('OGG', {'qtde_atrasos': [1], 'tempo_atrasos': [138]})\n",
            "('JFK', {'qtde_atrasos': [4], 'tempo_atrasos': [220]})\n"
          ]
        },
        {
          "output_type": "execute_result",
          "data": {
            "text/plain": [
              "<apache_beam.runners.portability.fn_api_runner.fn_runner.RunnerResult at 0x7fe946cf7650>"
            ]
          },
          "metadata": {},
          "execution_count": 46
        }
      ]
    }
  ]
}